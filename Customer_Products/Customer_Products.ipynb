{
 "cells": [
  {
   "cell_type": "code",
   "execution_count": 1,
   "metadata": {},
   "outputs": [],
   "source": [
    "#Importing all required libraries\n",
    "import numpy as np\n",
    "import pandas as pd\n",
    "import seaborn as sns\n",
    "import matplotlib.pyplot as plt\n",
    "import math\n",
    "%matplotlib inline"
   ]
  },
  {
   "cell_type": "code",
   "execution_count": 2,
   "metadata": {},
   "outputs": [
    {
     "data": {
      "text/html": [
       "<div>\n",
       "<style scoped>\n",
       "    .dataframe tbody tr th:only-of-type {\n",
       "        vertical-align: middle;\n",
       "    }\n",
       "\n",
       "    .dataframe tbody tr th {\n",
       "        vertical-align: top;\n",
       "    }\n",
       "\n",
       "    .dataframe thead th {\n",
       "        text-align: right;\n",
       "    }\n",
       "</style>\n",
       "<table border=\"1\" class=\"dataframe\">\n",
       "  <thead>\n",
       "    <tr style=\"text-align: right;\">\n",
       "      <th></th>\n",
       "      <th>customerID</th>\n",
       "      <th>DOB</th>\n",
       "      <th>Gender</th>\n",
       "      <th>State</th>\n",
       "      <th>PinCode</th>\n",
       "      <th>transactionDate</th>\n",
       "      <th>store_code</th>\n",
       "      <th>store_description</th>\n",
       "      <th>till_no</th>\n",
       "      <th>transaction_number_by_till</th>\n",
       "      <th>promo_code</th>\n",
       "      <th>promotion_description</th>\n",
       "      <th>product_code</th>\n",
       "      <th>product_description</th>\n",
       "      <th>sale_price_after_promo</th>\n",
       "      <th>discountUsed</th>\n",
       "    </tr>\n",
       "  </thead>\n",
       "  <tbody>\n",
       "    <tr>\n",
       "      <th>0</th>\n",
       "      <td>BBID_20482</td>\n",
       "      <td>20-10-1975</td>\n",
       "      <td>male</td>\n",
       "      <td>MADHYA PRADESH</td>\n",
       "      <td>453441.0</td>\n",
       "      <td>01-05-2016</td>\n",
       "      <td>2655</td>\n",
       "      <td>BB-INDORE-MALHAR MEGA MALL</td>\n",
       "      <td>2</td>\n",
       "      <td>85246</td>\n",
       "      <td>NONPROMO</td>\n",
       "      <td>NaN</td>\n",
       "      <td>1.000446e+09</td>\n",
       "      <td>PATANJALI CHOCOS 125g</td>\n",
       "      <td>55.00</td>\n",
       "      <td>Payback</td>\n",
       "    </tr>\n",
       "    <tr>\n",
       "      <th>1</th>\n",
       "      <td>BBID_20485</td>\n",
       "      <td>21-07-1955</td>\n",
       "      <td>female</td>\n",
       "      <td>NaN</td>\n",
       "      <td>999999.0</td>\n",
       "      <td>09-03-2017</td>\n",
       "      <td>2655</td>\n",
       "      <td>BB-INDORE-MALHAR MEGA MALL</td>\n",
       "      <td>8</td>\n",
       "      <td>78829</td>\n",
       "      <td>NONPROMO</td>\n",
       "      <td>NaN</td>\n",
       "      <td>1.000010e+09</td>\n",
       "      <td>SOO FRESH ROLLS HOT DOG 4P</td>\n",
       "      <td>30.00</td>\n",
       "      <td>Payback</td>\n",
       "    </tr>\n",
       "    <tr>\n",
       "      <th>2</th>\n",
       "      <td>BBID_20498</td>\n",
       "      <td>19-03-1981</td>\n",
       "      <td>female</td>\n",
       "      <td>MAHARASHTRA</td>\n",
       "      <td>400064.0</td>\n",
       "      <td>12-08-2015</td>\n",
       "      <td>2655</td>\n",
       "      <td>BB-INDORE-MALHAR MEGA MALL</td>\n",
       "      <td>13</td>\n",
       "      <td>1064</td>\n",
       "      <td>971754</td>\n",
       "      <td>AD 399 FLAT LADIES JEANS  FASHION EXC</td>\n",
       "      <td>1.000080e+12</td>\n",
       "      <td>DLJ-0010-BSF-2-CJ-FL, 34, BLACK</td>\n",
       "      <td>418.95</td>\n",
       "      <td>Payback</td>\n",
       "    </tr>\n",
       "    <tr>\n",
       "      <th>3</th>\n",
       "      <td>BBID_20499</td>\n",
       "      <td>10-05-1986</td>\n",
       "      <td>male</td>\n",
       "      <td>MAHARASHTRA</td>\n",
       "      <td>400099.0</td>\n",
       "      <td>18-12-2016</td>\n",
       "      <td>2615</td>\n",
       "      <td>BB-AMRITSAR-TRILIUM MALL</td>\n",
       "      <td>14</td>\n",
       "      <td>51080</td>\n",
       "      <td>NONPROMO</td>\n",
       "      <td>NaN</td>\n",
       "      <td>1.000443e+09</td>\n",
       "      <td>PATANJALI TOMATO KETCHUP BT 500g</td>\n",
       "      <td>70.00</td>\n",
       "      <td>Payback</td>\n",
       "    </tr>\n",
       "    <tr>\n",
       "      <th>4</th>\n",
       "      <td>BBID_204110</td>\n",
       "      <td>29-02-1988</td>\n",
       "      <td>male</td>\n",
       "      <td>MADHYA PRADESH</td>\n",
       "      <td>474001.0</td>\n",
       "      <td>31-12-2015</td>\n",
       "      <td>2655</td>\n",
       "      <td>BB-INDORE-MALHAR MEGA MALL</td>\n",
       "      <td>9</td>\n",
       "      <td>21911</td>\n",
       "      <td>974126</td>\n",
       "      <td>NMP 5% OFF CONCEPT DISCOUNT 2655</td>\n",
       "      <td>3.004817e+08</td>\n",
       "      <td>MAGGI NDL MERI MASALA PP 70g</td>\n",
       "      <td>34.20</td>\n",
       "      <td>Payback</td>\n",
       "    </tr>\n",
       "  </tbody>\n",
       "</table>\n",
       "</div>"
      ],
      "text/plain": [
       "    customerID         DOB  Gender           State   PinCode transactionDate  \\\n",
       "0   BBID_20482  20-10-1975    male  MADHYA PRADESH  453441.0      01-05-2016   \n",
       "1   BBID_20485  21-07-1955  female             NaN  999999.0      09-03-2017   \n",
       "2   BBID_20498  19-03-1981  female     MAHARASHTRA  400064.0      12-08-2015   \n",
       "3   BBID_20499  10-05-1986    male     MAHARASHTRA  400099.0      18-12-2016   \n",
       "4  BBID_204110  29-02-1988    male  MADHYA PRADESH  474001.0      31-12-2015   \n",
       "\n",
       "   store_code           store_description  till_no  \\\n",
       "0        2655  BB-INDORE-MALHAR MEGA MALL        2   \n",
       "1        2655  BB-INDORE-MALHAR MEGA MALL        8   \n",
       "2        2655  BB-INDORE-MALHAR MEGA MALL       13   \n",
       "3        2615    BB-AMRITSAR-TRILIUM MALL       14   \n",
       "4        2655  BB-INDORE-MALHAR MEGA MALL        9   \n",
       "\n",
       "   transaction_number_by_till promo_code  \\\n",
       "0                       85246   NONPROMO   \n",
       "1                       78829   NONPROMO   \n",
       "2                        1064     971754   \n",
       "3                       51080   NONPROMO   \n",
       "4                       21911     974126   \n",
       "\n",
       "                   promotion_description  product_code  \\\n",
       "0                                    NaN  1.000446e+09   \n",
       "1                                    NaN  1.000010e+09   \n",
       "2  AD 399 FLAT LADIES JEANS  FASHION EXC  1.000080e+12   \n",
       "3                                    NaN  1.000443e+09   \n",
       "4       NMP 5% OFF CONCEPT DISCOUNT 2655  3.004817e+08   \n",
       "\n",
       "                product_description  sale_price_after_promo discountUsed  \n",
       "0             PATANJALI CHOCOS 125g                   55.00      Payback  \n",
       "1        SOO FRESH ROLLS HOT DOG 4P                   30.00      Payback  \n",
       "2   DLJ-0010-BSF-2-CJ-FL, 34, BLACK                  418.95      Payback  \n",
       "3  PATANJALI TOMATO KETCHUP BT 500g                   70.00      Payback  \n",
       "4      MAGGI NDL MERI MASALA PP 70g                   34.20      Payback  "
      ]
     },
     "execution_count": 2,
     "metadata": {},
     "output_type": "execute_result"
    }
   ],
   "source": [
    "#Fetching the data in df\n",
    "df=pd.read_csv('cproducts.csv')\n",
    "#Reading first 5 rows of the dataset\n",
    "df.head()"
   ]
  },
  {
   "cell_type": "code",
   "execution_count": 3,
   "metadata": {},
   "outputs": [
    {
     "data": {
      "text/plain": [
       "customerID                     object\n",
       "DOB                            object\n",
       "Gender                         object\n",
       "State                          object\n",
       "PinCode                       float64\n",
       "transactionDate                object\n",
       "store_code                      int64\n",
       "store_description              object\n",
       "till_no                         int64\n",
       "transaction_number_by_till      int64\n",
       "promo_code                     object\n",
       "promotion_description          object\n",
       "product_code                  float64\n",
       "product_description            object\n",
       "sale_price_after_promo        float64\n",
       "discountUsed                   object\n",
       "dtype: object"
      ]
     },
     "execution_count": 3,
     "metadata": {},
     "output_type": "execute_result"
    }
   ],
   "source": [
    "#checking data types of all columns\n",
    "df.dtypes"
   ]
  },
  {
   "cell_type": "code",
   "execution_count": 4,
   "metadata": {},
   "outputs": [
    {
     "data": {
      "text/plain": [
       "customerID                       0\n",
       "DOB                            319\n",
       "Gender                        1028\n",
       "State                         1583\n",
       "PinCode                        817\n",
       "transactionDate                  0\n",
       "store_code                       0\n",
       "store_description                0\n",
       "till_no                          0\n",
       "transaction_number_by_till       0\n",
       "promo_code                       0\n",
       "promotion_description         8510\n",
       "product_code                     0\n",
       "product_description              0\n",
       "sale_price_after_promo           0\n",
       "discountUsed                     0\n",
       "dtype: int64"
      ]
     },
     "execution_count": 4,
     "metadata": {},
     "output_type": "execute_result"
    }
   ],
   "source": [
    "#checking NULL values on each column\n",
    "df.isnull().sum()"
   ]
  },
  {
   "cell_type": "code",
   "execution_count": 5,
   "metadata": {},
   "outputs": [
    {
     "data": {
      "image/png": "[encoded data removed]",
      "text/plain": [
       "<Figure size 432x288 with 2 Axes>"
      ]
     },
     "metadata": {
      "needs_background": "light"
     },
     "output_type": "display_data"
    }
   ],
   "source": [
    "#Checking Null values by a graph on each column\n",
    "sns.heatmap(df.isnull(),cmap=\"Blues\");"
   ]
  },
  {
   "cell_type": "code",
   "execution_count": 6,
   "metadata": {},
   "outputs": [
    {
     "data": {
      "text/plain": [
       "(11972, 16)"
      ]
     },
     "execution_count": 6,
     "metadata": {},
     "output_type": "execute_result"
    }
   ],
   "source": [
    "#Checking the shape of the dataset\n",
    "df.shape"
   ]
  },
  {
   "cell_type": "code",
   "execution_count": 7,
   "metadata": {},
   "outputs": [],
   "source": [
    "#As there are 8510 null values out of 11972 rows in 'promotion_description'\n",
    "#I am going to delete that row\n",
    "\n",
    "#Dropping 'promotion_description'\n",
    "df.drop(['promotion_description'],axis=1,inplace=True)"
   ]
  },
  {
   "cell_type": "code",
   "execution_count": 8,
   "metadata": {},
   "outputs": [
    {
     "data": {
      "text/html": [
       "<div>\n",
       "<style scoped>\n",
       "    .dataframe tbody tr th:only-of-type {\n",
       "        vertical-align: middle;\n",
       "    }\n",
       "\n",
       "    .dataframe tbody tr th {\n",
       "        vertical-align: top;\n",
       "    }\n",
       "\n",
       "    .dataframe thead th {\n",
       "        text-align: right;\n",
       "    }\n",
       "</style>\n",
       "<table border=\"1\" class=\"dataframe\">\n",
       "  <thead>\n",
       "    <tr style=\"text-align: right;\">\n",
       "      <th></th>\n",
       "      <th>customerID</th>\n",
       "      <th>DOB</th>\n",
       "      <th>Gender</th>\n",
       "      <th>State</th>\n",
       "      <th>PinCode</th>\n",
       "      <th>transactionDate</th>\n",
       "      <th>store_code</th>\n",
       "      <th>store_description</th>\n",
       "      <th>till_no</th>\n",
       "      <th>transaction_number_by_till</th>\n",
       "      <th>promo_code</th>\n",
       "      <th>product_code</th>\n",
       "      <th>product_description</th>\n",
       "      <th>sale_price_after_promo</th>\n",
       "      <th>discountUsed</th>\n",
       "    </tr>\n",
       "  </thead>\n",
       "  <tbody>\n",
       "    <tr>\n",
       "      <th>11967</th>\n",
       "      <td>BBID_211461439</td>\n",
       "      <td>18-04-1973</td>\n",
       "      <td>male</td>\n",
       "      <td>JHARKHAND</td>\n",
       "      <td>831012.0</td>\n",
       "      <td>06-06-2017</td>\n",
       "      <td>4843</td>\n",
       "      <td>BB-JAMSHEDPUR-NH-33</td>\n",
       "      <td>9</td>\n",
       "      <td>72096</td>\n",
       "      <td>NONPROMO</td>\n",
       "      <td>1.080376e+08</td>\n",
       "      <td>SUGAR MEDIUM LOOSE</td>\n",
       "      <td>90.81</td>\n",
       "      <td>BBSavingsClub,T24Club,BBProfitClub,Payback</td>\n",
       "    </tr>\n",
       "    <tr>\n",
       "      <th>11968</th>\n",
       "      <td>BBID_211461453</td>\n",
       "      <td>10-12-1994</td>\n",
       "      <td>female</td>\n",
       "      <td>JHARKHAND</td>\n",
       "      <td>831018.0</td>\n",
       "      <td>19-04-2017</td>\n",
       "      <td>4843</td>\n",
       "      <td>BB-JAMSHEDPUR-NH-33</td>\n",
       "      <td>3</td>\n",
       "      <td>90594</td>\n",
       "      <td>1279705</td>\n",
       "      <td>1.000720e+12</td>\n",
       "      <td>VIP Pulse SP Blue, 81 cm</td>\n",
       "      <td>4756.50</td>\n",
       "      <td>BBSavingsClub</td>\n",
       "    </tr>\n",
       "    <tr>\n",
       "      <th>11969</th>\n",
       "      <td>BBID_211461466</td>\n",
       "      <td>25-08-1959</td>\n",
       "      <td>female</td>\n",
       "      <td>JHARKHAND</td>\n",
       "      <td>832401.0</td>\n",
       "      <td>17-04-2017</td>\n",
       "      <td>4843</td>\n",
       "      <td>BB-JAMSHEDPUR-NH-33</td>\n",
       "      <td>5</td>\n",
       "      <td>6628</td>\n",
       "      <td>1268186</td>\n",
       "      <td>3.001963e+08</td>\n",
       "      <td>CLMT PHENYLS MILKY 2*1L</td>\n",
       "      <td>89.10</td>\n",
       "      <td>BBSavingsClub,Payback</td>\n",
       "    </tr>\n",
       "    <tr>\n",
       "      <th>11970</th>\n",
       "      <td>BBID_211461471</td>\n",
       "      <td>01-01-1955</td>\n",
       "      <td>NaN</td>\n",
       "      <td>JHARKHAND</td>\n",
       "      <td>831018.0</td>\n",
       "      <td>12-06-2017</td>\n",
       "      <td>4843</td>\n",
       "      <td>BB-JAMSHEDPUR-NH-33</td>\n",
       "      <td>5</td>\n",
       "      <td>22026</td>\n",
       "      <td>LOCALPROMO</td>\n",
       "      <td>1.080352e+08</td>\n",
       "      <td>TATA CTC TEA GOLD PP 250g</td>\n",
       "      <td>90.90</td>\n",
       "      <td>BBSavingsClub</td>\n",
       "    </tr>\n",
       "    <tr>\n",
       "      <th>11971</th>\n",
       "      <td>BBID_211461472</td>\n",
       "      <td>01-01-1985</td>\n",
       "      <td>male</td>\n",
       "      <td>JHARKHAND</td>\n",
       "      <td>831019.0</td>\n",
       "      <td>22-05-2017</td>\n",
       "      <td>4843</td>\n",
       "      <td>BB-JAMSHEDPUR-NH-33</td>\n",
       "      <td>9</td>\n",
       "      <td>68822</td>\n",
       "      <td>1268186</td>\n",
       "      <td>1.000118e+09</td>\n",
       "      <td>BOILED SWEET CORN PERI PERI MASALA</td>\n",
       "      <td>63.00</td>\n",
       "      <td>BBSavingsClub</td>\n",
       "    </tr>\n",
       "  </tbody>\n",
       "</table>\n",
       "</div>"
      ],
      "text/plain": [
       "           customerID         DOB  Gender      State   PinCode  \\\n",
       "11967  BBID_211461439  18-04-1973    male  JHARKHAND  831012.0   \n",
       "11968  BBID_211461453  10-12-1994  female  JHARKHAND  831018.0   \n",
       "11969  BBID_211461466  25-08-1959  female  JHARKHAND  832401.0   \n",
       "11970  BBID_211461471  01-01-1955     NaN  JHARKHAND  831018.0   \n",
       "11971  BBID_211461472  01-01-1985    male  JHARKHAND  831019.0   \n",
       "\n",
       "      transactionDate  store_code    store_description  till_no  \\\n",
       "11967      06-06-2017        4843  BB-JAMSHEDPUR-NH-33        9   \n",
       "11968      19-04-2017        4843  BB-JAMSHEDPUR-NH-33        3   \n",
       "11969      17-04-2017        4843  BB-JAMSHEDPUR-NH-33        5   \n",
       "11970      12-06-2017        4843  BB-JAMSHEDPUR-NH-33        5   \n",
       "11971      22-05-2017        4843  BB-JAMSHEDPUR-NH-33        9   \n",
       "\n",
       "       transaction_number_by_till  promo_code  product_code  \\\n",
       "11967                       72096    NONPROMO  1.080376e+08   \n",
       "11968                       90594     1279705  1.000720e+12   \n",
       "11969                        6628     1268186  3.001963e+08   \n",
       "11970                       22026  LOCALPROMO  1.080352e+08   \n",
       "11971                       68822     1268186  1.000118e+09   \n",
       "\n",
       "                      product_description  sale_price_after_promo  \\\n",
       "11967                  SUGAR MEDIUM LOOSE                   90.81   \n",
       "11968            VIP Pulse SP Blue, 81 cm                 4756.50   \n",
       "11969             CLMT PHENYLS MILKY 2*1L                   89.10   \n",
       "11970           TATA CTC TEA GOLD PP 250g                   90.90   \n",
       "11971  BOILED SWEET CORN PERI PERI MASALA                   63.00   \n",
       "\n",
       "                                     discountUsed  \n",
       "11967  BBSavingsClub,T24Club,BBProfitClub,Payback  \n",
       "11968                               BBSavingsClub  \n",
       "11969                       BBSavingsClub,Payback  \n",
       "11970                               BBSavingsClub  \n",
       "11971                               BBSavingsClub  "
      ]
     },
     "execution_count": 8,
     "metadata": {},
     "output_type": "execute_result"
    }
   ],
   "source": [
    "#Now we will check if this column is still present or not\n",
    "df.tail() #details of last 5 rows"
   ]
  },
  {
   "cell_type": "code",
   "execution_count": 9,
   "metadata": {},
   "outputs": [],
   "source": [
    "#Now we will fill the NULL value rows on each column which has null value in it\n",
    "df.DOB.fillna(-1,inplace=True) #Filling Null values with -1 of DOB column\n",
    "df.Gender.fillna('No_Gender',inplace=True) #Filling Null Values with name 'No-Gender' of Gender column\n",
    "df.State.fillna('No_State',inplace=True) #Filling Null Values with name 'No-State' of State Column\n",
    "df.PinCode.fillna(1,inplace=True) #Filling Null Values with name 1 of Pincode Column"
   ]
  },
  {
   "cell_type": "code",
   "execution_count": 10,
   "metadata": {},
   "outputs": [
    {
     "data": {
      "text/plain": [
       "customerID                    0\n",
       "DOB                           0\n",
       "Gender                        0\n",
       "State                         0\n",
       "PinCode                       0\n",
       "transactionDate               0\n",
       "store_code                    0\n",
       "store_description             0\n",
       "till_no                       0\n",
       "transaction_number_by_till    0\n",
       "promo_code                    0\n",
       "product_code                  0\n",
       "product_description           0\n",
       "sale_price_after_promo        0\n",
       "discountUsed                  0\n",
       "dtype: int64"
      ]
     },
     "execution_count": 10,
     "metadata": {},
     "output_type": "execute_result"
    }
   ],
   "source": [
    "#Now recheck null values of each coulmn\n",
    "df.isnull().sum()\n",
    "\n",
    "#So we have dealed with all NULL values"
   ]
  },
  {
   "cell_type": "code",
   "execution_count": 11,
   "metadata": {},
   "outputs": [
    {
     "data": {
      "text/html": [
       "<div>\n",
       "<style scoped>\n",
       "    .dataframe tbody tr th:only-of-type {\n",
       "        vertical-align: middle;\n",
       "    }\n",
       "\n",
       "    .dataframe tbody tr th {\n",
       "        vertical-align: top;\n",
       "    }\n",
       "\n",
       "    .dataframe thead th {\n",
       "        text-align: right;\n",
       "    }\n",
       "</style>\n",
       "<table border=\"1\" class=\"dataframe\">\n",
       "  <thead>\n",
       "    <tr style=\"text-align: right;\">\n",
       "      <th></th>\n",
       "      <th>customerID</th>\n",
       "      <th>DOB</th>\n",
       "      <th>Gender</th>\n",
       "      <th>State</th>\n",
       "      <th>PinCode</th>\n",
       "      <th>transactionDate</th>\n",
       "      <th>store_code</th>\n",
       "      <th>store_description</th>\n",
       "      <th>till_no</th>\n",
       "      <th>transaction_number_by_till</th>\n",
       "      <th>promo_code</th>\n",
       "      <th>product_code</th>\n",
       "      <th>product_description</th>\n",
       "      <th>sale_price_after_promo</th>\n",
       "      <th>discountUsed</th>\n",
       "    </tr>\n",
       "  </thead>\n",
       "  <tbody>\n",
       "    <tr>\n",
       "      <th>11967</th>\n",
       "      <td>BBID_211461439</td>\n",
       "      <td>18-04-1973</td>\n",
       "      <td>male</td>\n",
       "      <td>JHARKHAND</td>\n",
       "      <td>831012.0</td>\n",
       "      <td>06-06-2017</td>\n",
       "      <td>4843</td>\n",
       "      <td>BB-JAMSHEDPUR-NH-33</td>\n",
       "      <td>9</td>\n",
       "      <td>72096</td>\n",
       "      <td>NONPROMO</td>\n",
       "      <td>1.080376e+08</td>\n",
       "      <td>SUGAR MEDIUM LOOSE</td>\n",
       "      <td>90.81</td>\n",
       "      <td>BBSavingsClub,T24Club,BBProfitClub,Payback</td>\n",
       "    </tr>\n",
       "    <tr>\n",
       "      <th>11968</th>\n",
       "      <td>BBID_211461453</td>\n",
       "      <td>10-12-1994</td>\n",
       "      <td>female</td>\n",
       "      <td>JHARKHAND</td>\n",
       "      <td>831018.0</td>\n",
       "      <td>19-04-2017</td>\n",
       "      <td>4843</td>\n",
       "      <td>BB-JAMSHEDPUR-NH-33</td>\n",
       "      <td>3</td>\n",
       "      <td>90594</td>\n",
       "      <td>1279705</td>\n",
       "      <td>1.000720e+12</td>\n",
       "      <td>VIP Pulse SP Blue, 81 cm</td>\n",
       "      <td>4756.50</td>\n",
       "      <td>BBSavingsClub</td>\n",
       "    </tr>\n",
       "    <tr>\n",
       "      <th>11969</th>\n",
       "      <td>BBID_211461466</td>\n",
       "      <td>25-08-1959</td>\n",
       "      <td>female</td>\n",
       "      <td>JHARKHAND</td>\n",
       "      <td>832401.0</td>\n",
       "      <td>17-04-2017</td>\n",
       "      <td>4843</td>\n",
       "      <td>BB-JAMSHEDPUR-NH-33</td>\n",
       "      <td>5</td>\n",
       "      <td>6628</td>\n",
       "      <td>1268186</td>\n",
       "      <td>3.001963e+08</td>\n",
       "      <td>CLMT PHENYLS MILKY 2*1L</td>\n",
       "      <td>89.10</td>\n",
       "      <td>BBSavingsClub,Payback</td>\n",
       "    </tr>\n",
       "    <tr>\n",
       "      <th>11970</th>\n",
       "      <td>BBID_211461471</td>\n",
       "      <td>01-01-1955</td>\n",
       "      <td>No_Gender</td>\n",
       "      <td>JHARKHAND</td>\n",
       "      <td>831018.0</td>\n",
       "      <td>12-06-2017</td>\n",
       "      <td>4843</td>\n",
       "      <td>BB-JAMSHEDPUR-NH-33</td>\n",
       "      <td>5</td>\n",
       "      <td>22026</td>\n",
       "      <td>LOCALPROMO</td>\n",
       "      <td>1.080352e+08</td>\n",
       "      <td>TATA CTC TEA GOLD PP 250g</td>\n",
       "      <td>90.90</td>\n",
       "      <td>BBSavingsClub</td>\n",
       "    </tr>\n",
       "    <tr>\n",
       "      <th>11971</th>\n",
       "      <td>BBID_211461472</td>\n",
       "      <td>01-01-1985</td>\n",
       "      <td>male</td>\n",
       "      <td>JHARKHAND</td>\n",
       "      <td>831019.0</td>\n",
       "      <td>22-05-2017</td>\n",
       "      <td>4843</td>\n",
       "      <td>BB-JAMSHEDPUR-NH-33</td>\n",
       "      <td>9</td>\n",
       "      <td>68822</td>\n",
       "      <td>1268186</td>\n",
       "      <td>1.000118e+09</td>\n",
       "      <td>BOILED SWEET CORN PERI PERI MASALA</td>\n",
       "      <td>63.00</td>\n",
       "      <td>BBSavingsClub</td>\n",
       "    </tr>\n",
       "  </tbody>\n",
       "</table>\n",
       "</div>"
      ],
      "text/plain": [
       "           customerID         DOB     Gender      State   PinCode  \\\n",
       "11967  BBID_211461439  18-04-1973       male  JHARKHAND  831012.0   \n",
       "11968  BBID_211461453  10-12-1994     female  JHARKHAND  831018.0   \n",
       "11969  BBID_211461466  25-08-1959     female  JHARKHAND  832401.0   \n",
       "11970  BBID_211461471  01-01-1955  No_Gender  JHARKHAND  831018.0   \n",
       "11971  BBID_211461472  01-01-1985       male  JHARKHAND  831019.0   \n",
       "\n",
       "      transactionDate  store_code    store_description  till_no  \\\n",
       "11967      06-06-2017        4843  BB-JAMSHEDPUR-NH-33        9   \n",
       "11968      19-04-2017        4843  BB-JAMSHEDPUR-NH-33        3   \n",
       "11969      17-04-2017        4843  BB-JAMSHEDPUR-NH-33        5   \n",
       "11970      12-06-2017        4843  BB-JAMSHEDPUR-NH-33        5   \n",
       "11971      22-05-2017        4843  BB-JAMSHEDPUR-NH-33        9   \n",
       "\n",
       "       transaction_number_by_till  promo_code  product_code  \\\n",
       "11967                       72096    NONPROMO  1.080376e+08   \n",
       "11968                       90594     1279705  1.000720e+12   \n",
       "11969                        6628     1268186  3.001963e+08   \n",
       "11970                       22026  LOCALPROMO  1.080352e+08   \n",
       "11971                       68822     1268186  1.000118e+09   \n",
       "\n",
       "                      product_description  sale_price_after_promo  \\\n",
       "11967                  SUGAR MEDIUM LOOSE                   90.81   \n",
       "11968            VIP Pulse SP Blue, 81 cm                 4756.50   \n",
       "11969             CLMT PHENYLS MILKY 2*1L                   89.10   \n",
       "11970           TATA CTC TEA GOLD PP 250g                   90.90   \n",
       "11971  BOILED SWEET CORN PERI PERI MASALA                   63.00   \n",
       "\n",
       "                                     discountUsed  \n",
       "11967  BBSavingsClub,T24Club,BBProfitClub,Payback  \n",
       "11968                               BBSavingsClub  \n",
       "11969                       BBSavingsClub,Payback  \n",
       "11970                               BBSavingsClub  \n",
       "11971                               BBSavingsClub  "
      ]
     },
     "execution_count": 11,
     "metadata": {},
     "output_type": "execute_result"
    }
   ],
   "source": [
    "df.tail()"
   ]
  },
  {
   "cell_type": "code",
   "execution_count": 12,
   "metadata": {},
   "outputs": [],
   "source": [
    "#To check transaction details on any day or any month or any year, we have to \n",
    "#split the 'transactionDate' into three new column named 'Day', 'Month', 'DayOfWeek' & 'Year'\n",
    "df[\"Month\"] = pd.DatetimeIndex(df[\"transactionDate\"]).month\n",
    "df[\"Day\"] = pd.DatetimeIndex(df[\"transactionDate\"]).day\n",
    "df[\"DayOfWeek\"] = pd.DatetimeIndex(df[\"transactionDate\"]).dayofweek\n",
    "df[\"Year\"] = pd.DatetimeIndex(df[\"transactionDate\"]).year"
   ]
  },
  {
   "cell_type": "code",
   "execution_count": 13,
   "metadata": {},
   "outputs": [
    {
     "data": {
      "text/html": [
       "<div>\n",
       "<style scoped>\n",
       "    .dataframe tbody tr th:only-of-type {\n",
       "        vertical-align: middle;\n",
       "    }\n",
       "\n",
       "    .dataframe tbody tr th {\n",
       "        vertical-align: top;\n",
       "    }\n",
       "\n",
       "    .dataframe thead th {\n",
       "        text-align: right;\n",
       "    }\n",
       "</style>\n",
       "<table border=\"1\" class=\"dataframe\">\n",
       "  <thead>\n",
       "    <tr style=\"text-align: right;\">\n",
       "      <th></th>\n",
       "      <th>customerID</th>\n",
       "      <th>DOB</th>\n",
       "      <th>Gender</th>\n",
       "      <th>State</th>\n",
       "      <th>PinCode</th>\n",
       "      <th>transactionDate</th>\n",
       "      <th>store_code</th>\n",
       "      <th>store_description</th>\n",
       "      <th>till_no</th>\n",
       "      <th>transaction_number_by_till</th>\n",
       "      <th>promo_code</th>\n",
       "      <th>product_code</th>\n",
       "      <th>product_description</th>\n",
       "      <th>sale_price_after_promo</th>\n",
       "      <th>discountUsed</th>\n",
       "      <th>Month</th>\n",
       "      <th>Day</th>\n",
       "      <th>DayOfWeek</th>\n",
       "      <th>Year</th>\n",
       "    </tr>\n",
       "  </thead>\n",
       "  <tbody>\n",
       "    <tr>\n",
       "      <th>0</th>\n",
       "      <td>BBID_20482</td>\n",
       "      <td>20-10-1975</td>\n",
       "      <td>male</td>\n",
       "      <td>MADHYA PRADESH</td>\n",
       "      <td>453441.0</td>\n",
       "      <td>01-05-2016</td>\n",
       "      <td>2655</td>\n",
       "      <td>BB-INDORE-MALHAR MEGA MALL</td>\n",
       "      <td>2</td>\n",
       "      <td>85246</td>\n",
       "      <td>NONPROMO</td>\n",
       "      <td>1.000446e+09</td>\n",
       "      <td>PATANJALI CHOCOS 125g</td>\n",
       "      <td>55.00</td>\n",
       "      <td>Payback</td>\n",
       "      <td>1</td>\n",
       "      <td>5</td>\n",
       "      <td>1</td>\n",
       "      <td>2016</td>\n",
       "    </tr>\n",
       "    <tr>\n",
       "      <th>1</th>\n",
       "      <td>BBID_20485</td>\n",
       "      <td>21-07-1955</td>\n",
       "      <td>female</td>\n",
       "      <td>No_State</td>\n",
       "      <td>999999.0</td>\n",
       "      <td>09-03-2017</td>\n",
       "      <td>2655</td>\n",
       "      <td>BB-INDORE-MALHAR MEGA MALL</td>\n",
       "      <td>8</td>\n",
       "      <td>78829</td>\n",
       "      <td>NONPROMO</td>\n",
       "      <td>1.000010e+09</td>\n",
       "      <td>SOO FRESH ROLLS HOT DOG 4P</td>\n",
       "      <td>30.00</td>\n",
       "      <td>Payback</td>\n",
       "      <td>9</td>\n",
       "      <td>3</td>\n",
       "      <td>6</td>\n",
       "      <td>2017</td>\n",
       "    </tr>\n",
       "    <tr>\n",
       "      <th>2</th>\n",
       "      <td>BBID_20498</td>\n",
       "      <td>19-03-1981</td>\n",
       "      <td>female</td>\n",
       "      <td>MAHARASHTRA</td>\n",
       "      <td>400064.0</td>\n",
       "      <td>12-08-2015</td>\n",
       "      <td>2655</td>\n",
       "      <td>BB-INDORE-MALHAR MEGA MALL</td>\n",
       "      <td>13</td>\n",
       "      <td>1064</td>\n",
       "      <td>971754</td>\n",
       "      <td>1.000080e+12</td>\n",
       "      <td>DLJ-0010-BSF-2-CJ-FL, 34, BLACK</td>\n",
       "      <td>418.95</td>\n",
       "      <td>Payback</td>\n",
       "      <td>12</td>\n",
       "      <td>8</td>\n",
       "      <td>1</td>\n",
       "      <td>2015</td>\n",
       "    </tr>\n",
       "    <tr>\n",
       "      <th>3</th>\n",
       "      <td>BBID_20499</td>\n",
       "      <td>10-05-1986</td>\n",
       "      <td>male</td>\n",
       "      <td>MAHARASHTRA</td>\n",
       "      <td>400099.0</td>\n",
       "      <td>18-12-2016</td>\n",
       "      <td>2615</td>\n",
       "      <td>BB-AMRITSAR-TRILIUM MALL</td>\n",
       "      <td>14</td>\n",
       "      <td>51080</td>\n",
       "      <td>NONPROMO</td>\n",
       "      <td>1.000443e+09</td>\n",
       "      <td>PATANJALI TOMATO KETCHUP BT 500g</td>\n",
       "      <td>70.00</td>\n",
       "      <td>Payback</td>\n",
       "      <td>12</td>\n",
       "      <td>18</td>\n",
       "      <td>6</td>\n",
       "      <td>2016</td>\n",
       "    </tr>\n",
       "    <tr>\n",
       "      <th>4</th>\n",
       "      <td>BBID_204110</td>\n",
       "      <td>29-02-1988</td>\n",
       "      <td>male</td>\n",
       "      <td>MADHYA PRADESH</td>\n",
       "      <td>474001.0</td>\n",
       "      <td>31-12-2015</td>\n",
       "      <td>2655</td>\n",
       "      <td>BB-INDORE-MALHAR MEGA MALL</td>\n",
       "      <td>9</td>\n",
       "      <td>21911</td>\n",
       "      <td>974126</td>\n",
       "      <td>3.004817e+08</td>\n",
       "      <td>MAGGI NDL MERI MASALA PP 70g</td>\n",
       "      <td>34.20</td>\n",
       "      <td>Payback</td>\n",
       "      <td>12</td>\n",
       "      <td>31</td>\n",
       "      <td>3</td>\n",
       "      <td>2015</td>\n",
       "    </tr>\n",
       "  </tbody>\n",
       "</table>\n",
       "</div>"
      ],
      "text/plain": [
       "    customerID         DOB  Gender           State   PinCode transactionDate  \\\n",
       "0   BBID_20482  20-10-1975    male  MADHYA PRADESH  453441.0      01-05-2016   \n",
       "1   BBID_20485  21-07-1955  female        No_State  999999.0      09-03-2017   \n",
       "2   BBID_20498  19-03-1981  female     MAHARASHTRA  400064.0      12-08-2015   \n",
       "3   BBID_20499  10-05-1986    male     MAHARASHTRA  400099.0      18-12-2016   \n",
       "4  BBID_204110  29-02-1988    male  MADHYA PRADESH  474001.0      31-12-2015   \n",
       "\n",
       "   store_code           store_description  till_no  \\\n",
       "0        2655  BB-INDORE-MALHAR MEGA MALL        2   \n",
       "1        2655  BB-INDORE-MALHAR MEGA MALL        8   \n",
       "2        2655  BB-INDORE-MALHAR MEGA MALL       13   \n",
       "3        2615    BB-AMRITSAR-TRILIUM MALL       14   \n",
       "4        2655  BB-INDORE-MALHAR MEGA MALL        9   \n",
       "\n",
       "   transaction_number_by_till promo_code  product_code  \\\n",
       "0                       85246   NONPROMO  1.000446e+09   \n",
       "1                       78829   NONPROMO  1.000010e+09   \n",
       "2                        1064     971754  1.000080e+12   \n",
       "3                       51080   NONPROMO  1.000443e+09   \n",
       "4                       21911     974126  3.004817e+08   \n",
       "\n",
       "                product_description  sale_price_after_promo discountUsed  \\\n",
       "0             PATANJALI CHOCOS 125g                   55.00      Payback   \n",
       "1        SOO FRESH ROLLS HOT DOG 4P                   30.00      Payback   \n",
       "2   DLJ-0010-BSF-2-CJ-FL, 34, BLACK                  418.95      Payback   \n",
       "3  PATANJALI TOMATO KETCHUP BT 500g                   70.00      Payback   \n",
       "4      MAGGI NDL MERI MASALA PP 70g                   34.20      Payback   \n",
       "\n",
       "   Month  Day  DayOfWeek  Year  \n",
       "0      1    5          1  2016  \n",
       "1      9    3          6  2017  \n",
       "2     12    8          1  2015  \n",
       "3     12   18          6  2016  \n",
       "4     12   31          3  2015  "
      ]
     },
     "execution_count": 13,
     "metadata": {},
     "output_type": "execute_result"
    }
   ],
   "source": [
    "df.head()"
   ]
  },
  {
   "cell_type": "code",
   "execution_count": null,
   "metadata": {},
   "outputs": [],
   "source": []
  },
  {
   "cell_type": "code",
   "execution_count": 14,
   "metadata": {},
   "outputs": [
    {
     "data": {
      "text/plain": [
       "MADHYA PRADESH        3064\n",
       "KARNATAKA             2373\n",
       "No_State              1583\n",
       "JHARKHAND             1554\n",
       "TAMIL NADU            1302\n",
       "PUNJAB                1156\n",
       "MAHARASHTRA            174\n",
       "TAMILNADU              146\n",
       "WEST BENGAL            106\n",
       "UTTAR PRADESH          104\n",
       "DELHI                   60\n",
       "BIHAR                   49\n",
       "ORISSA                  47\n",
       "ANDHRA PRADESH          44\n",
       "GUJARAT                 35\n",
       "RAJASTHAN               32\n",
       "CHATTISGARH             26\n",
       "HARYANA                 23\n",
       "KERALA                  20\n",
       "HARAYANA                14\n",
       "GOA                      9\n",
       "x                        9\n",
       "DUMMY                    9\n",
       "HIMACHAL PRADESH         6\n",
       "ASSAM                    5\n",
       "UTTARANCHAL              4\n",
       "CHANDIGARH               3\n",
       "MADHYA  PRADESH          2\n",
       "JAMMU AND KASHMIR        2\n",
       "CHHATTISGARH             2\n",
       "Jharkhand                2\n",
       "UTTAR PRADESH EAST       1\n",
       "MANIPUR                  1\n",
       "Other                    1\n",
       "KARNATAK                 1\n",
       "MP                       1\n",
       "SIKKIM                   1\n",
       "TRIPURA                  1\n",
       "Name: State, dtype: int64"
      ]
     },
     "execution_count": 14,
     "metadata": {},
     "output_type": "execute_result"
    }
   ],
   "source": [
    "#Checking if all state names are okay or not\n",
    "df['State'].value_counts()"
   ]
  },
  {
   "cell_type": "code",
   "execution_count": 15,
   "metadata": {},
   "outputs": [],
   "source": [
    "#Now we have Correct All State's Name\n",
    "state_dict = {'MADHY PRADESH':'MADHYA PRADESH', 'TAMILNADU':'TAMIL NADU', 'MADHYA  PRADESH':'MADHYA PRADESH',\n",
    "             'Jharkhand':'JHARKHAND','Uttar Pradesh':'UTTAR PRADESH', 'Delhi':'DELHI','CHHATISGARH':'CHHATTISGARH','CHATTISGARH':'CHHATTISGARH', 'Jharkhand':'JHARKHAND',\n",
    "             'MAHARASTRA':'MAHARASHTRA',\n",
    "             'KARNATAK':'KARNATAKA','JAMMU and KASHMIR':'JAMMU AND KASHMIR','JAMMU KASHMIR':'JAMMU AND KASHMIR',\n",
    "             'UTTARANCHAL':'UTTARAKHAND',\n",
    "             'Maharashtra':'MAHARASHTRA','MP':'MADHYA PRADESH', 'UTTAR PRADESH EAST':'UTTAR PRADESH',\n",
    "             'HUBLI':'KARNATAKA','x':'No_State','DUMMY':'No_State','Other':'No_State'}\n",
    "df.replace({\"State\": state_dict}, inplace=True)\n"
   ]
  },
  {
   "cell_type": "code",
   "execution_count": 16,
   "metadata": {},
   "outputs": [
    {
     "data": {
      "text/plain": [
       "MADHYA PRADESH       3067\n",
       "KARNATAKA            2374\n",
       "No_State             1602\n",
       "JHARKHAND            1556\n",
       "TAMIL NADU           1448\n",
       "PUNJAB               1156\n",
       "MAHARASHTRA           174\n",
       "WEST BENGAL           106\n",
       "UTTAR PRADESH         105\n",
       "DELHI                  60\n",
       "BIHAR                  49\n",
       "ORISSA                 47\n",
       "ANDHRA PRADESH         44\n",
       "GUJARAT                35\n",
       "RAJASTHAN              32\n",
       "CHHATTISGARH           28\n",
       "HARYANA                23\n",
       "KERALA                 20\n",
       "HARAYANA               14\n",
       "GOA                     9\n",
       "HIMACHAL PRADESH        6\n",
       "ASSAM                   5\n",
       "UTTARAKHAND             4\n",
       "CHANDIGARH              3\n",
       "JAMMU AND KASHMIR       2\n",
       "SIKKIM                  1\n",
       "MANIPUR                 1\n",
       "TRIPURA                 1\n",
       "Name: State, dtype: int64"
      ]
     },
     "execution_count": 16,
     "metadata": {},
     "output_type": "execute_result"
    }
   ],
   "source": [
    "df['State'].value_counts()"
   ]
  },
  {
   "cell_type": "markdown",
   "metadata": {},
   "source": [
    "# Time to check all Graphical Representation"
   ]
  },
  {
   "cell_type": "code",
   "execution_count": 27,
   "metadata": {},
   "outputs": [
    {
     "data": {
      "image/png": "[encoded data removed]",
      "text/plain": [
       "<Figure size 432x288 with 1 Axes>"
      ]
     },
     "metadata": {
      "needs_background": "light"
     },
     "output_type": "display_data"
    }
   ],
   "source": [
    "#Frequency of order by days of the month\n",
    "sns.countplot(x='Day',data=df)\n",
    "plt.ylabel('Count', fontsize=14)\n",
    "plt.xlabel('Days of Month', fontsize=14)\n",
    "plt.xticks(rotation='vertical')\n",
    "plt.title(\"Frequency of order by days in a month\", fontsize=15)\n",
    "plt.show()"
   ]
  },
  {
   "cell_type": "code",
   "execution_count": 18,
   "metadata": {},
   "outputs": [
    {
     "data": {
      "image/png": "[encoded data removed]",
      "text/plain": [
       "<Figure size 432x288 with 1 Axes>"
      ]
     },
     "metadata": {
      "needs_background": "light"
     },
     "output_type": "display_data"
    }
   ],
   "source": [
    "#Frequency of order by Month of the Years\n",
    "sns.countplot(x='Month',data=df)\n",
    "plt.xlabel('Month of the Year', fontsize=14)\n",
    "plt.ylabel('Count', fontsize=14)\n",
    "plt.title(\"Frequency of order by Months of the Year\", fontsize=15)\n",
    "plt.show()"
   ]
  },
  {
   "cell_type": "code",
   "execution_count": 19,
   "metadata": {},
   "outputs": [
    {
     "data": {
      "image/png": "[encoded data removed]",
      "text/plain": [
       "<Figure size 432x288 with 1 Axes>"
      ]
     },
     "metadata": {
      "needs_background": "light"
     },
     "output_type": "display_data"
    }
   ],
   "source": [
    "#Frequency of order Year Wise\n",
    "sns.countplot(x='Year',data=df)\n",
    "plt.xlabel('Years', fontsize=14)\n",
    "plt.ylabel('Count', fontsize=14)\n",
    "plt.title(\"Frequency of order Year Wise\", fontsize=15)\n",
    "plt.show()"
   ]
  },
  {
   "cell_type": "code",
   "execution_count": 26,
   "metadata": {},
   "outputs": [
    {
     "data": {
      "image/png": "[encoded data removed]",
      "text/plain": [
       "<Figure size 432x288 with 1 Axes>"
      ]
     },
     "metadata": {
      "needs_background": "light"
     },
     "output_type": "display_data"
    }
   ],
   "source": [
    "#Frequency of States:\n",
    "sns.countplot(x='State',data=df)\n",
    "plt.xlabel('State', fontsize=14)\n",
    "plt.ylabel('Count', fontsize=14)\n",
    "plt.xticks(rotation='vertical')\n",
    "plt.title(\"Frequency of States\", fontsize=15)\n",
    "plt.show()"
   ]
  },
  {
   "cell_type": "code",
   "execution_count": 21,
   "metadata": {},
   "outputs": [
    {
     "data": {
      "image/png": "[encoded data removed]",
      "text/plain": [
       "<Figure size 432x288 with 1 Axes>"
      ]
     },
     "metadata": {
      "needs_background": "light"
     },
     "output_type": "display_data"
    }
   ],
   "source": [
    "#Frequency of Gender\n",
    "sns.countplot(x='Gender',data=df)\n",
    "plt.xlabel('Gender', fontsize=14)\n",
    "plt.ylabel('Count', fontsize=14)\n",
    "plt.title(\"Frequency of Gender\", fontsize=15)\n",
    "plt.show()"
   ]
  },
  {
   "cell_type": "code",
   "execution_count": 25,
   "metadata": {},
   "outputs": [
    {
     "data": {
      "image/png": "[encoded data removed]",
      "text/plain": [
       "<Figure size 864x576 with 1 Axes>"
      ]
     },
     "metadata": {
      "needs_background": "light"
     },
     "output_type": "display_data"
    }
   ],
   "source": [
    "cnt_srs = df['product_description'].value_counts().head(20)\n",
    "plt.figure(figsize=(12,8))\n",
    "sns.barplot(cnt_srs.index, cnt_srs.values, alpha=0.8)\n",
    "plt.ylabel('Number of Occurrences', fontsize=12)\n",
    "plt.xlabel('Product', fontsize=12)\n",
    "plt.xticks(rotation='vertical')\n",
    "plt.show()"
   ]
  },
  {
   "cell_type": "code",
   "execution_count": null,
   "metadata": {},
   "outputs": [],
   "source": []
  }
 ],
 "metadata": {
  "kernelspec": {
   "display_name": "Python 3",
   "language": "python",
   "name": "python3"
  },
  "language_info": {
   "codemirror_mode": {
    "name": "ipython",
    "version": 3
   },
   "file_extension": ".py",
   "mimetype": "text/x-python",
   "name": "python",
   "nbconvert_exporter": "python",
   "pygments_lexer": "ipython3",
   "version": "3.7.3"
  }
 },
 "nbformat": 4,
 "nbformat_minor": 2
}
